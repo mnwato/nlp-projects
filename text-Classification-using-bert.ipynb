{
  "nbformat": 4,
  "nbformat_minor": 0,
  "metadata": {
    "colab": {
      "name": "BERT_for_classification_final.ipynb",
      "provenance": [],
      "collapsed_sections": [],
      "include_colab_link": true
    },
    "kernelspec": {
      "name": "python3",
      "display_name": "Python 3"
    },
    "language_info": {
      "name": "python"
    },
    "accelerator": "GPU",
    "widgets": {
      "application/vnd.jupyter.widget-state+json": {
        "0cdf779377a143f1819f8d2bd44683f8": {
          "model_module": "@jupyter-widgets/controls",
          "model_name": "HBoxModel",
          "model_module_version": "1.5.0",
          "state": {
            "_view_name": "HBoxView",
            "_dom_classes": [],
            "_model_name": "HBoxModel",
            "_view_module": "@jupyter-widgets/controls",
            "_model_module_version": "1.5.0",
            "_view_count": null,
            "_view_module_version": "1.5.0",
            "box_style": "",
            "layout": "IPY_MODEL_bce0f0fcbd874ef4a380959ad93ff5f4",
            "_model_module": "@jupyter-widgets/controls",
            "children": [
              "IPY_MODEL_0561e1531040474fbe9af60904c1ff0c",
              "IPY_MODEL_80b6ae6e7df64933b98b96364f2ebf07",
              "IPY_MODEL_13d423824a804c828bd12fe36934a7ef"
            ]
          }
        },
        "bce0f0fcbd874ef4a380959ad93ff5f4": {
          "model_module": "@jupyter-widgets/base",
          "model_name": "LayoutModel",
          "model_module_version": "1.2.0",
          "state": {
            "_view_name": "LayoutView",
            "grid_template_rows": null,
            "right": null,
            "justify_content": null,
            "_view_module": "@jupyter-widgets/base",
            "overflow": null,
            "_model_module_version": "1.2.0",
            "_view_count": null,
            "flex_flow": null,
            "width": null,
            "min_width": null,
            "border": null,
            "align_items": null,
            "bottom": null,
            "_model_module": "@jupyter-widgets/base",
            "top": null,
            "grid_column": null,
            "overflow_y": null,
            "overflow_x": null,
            "grid_auto_flow": null,
            "grid_area": null,
            "grid_template_columns": null,
            "flex": null,
            "_model_name": "LayoutModel",
            "justify_items": null,
            "grid_row": null,
            "max_height": null,
            "align_content": null,
            "visibility": null,
            "align_self": null,
            "height": null,
            "min_height": null,
            "padding": null,
            "grid_auto_rows": null,
            "grid_gap": null,
            "max_width": null,
            "order": null,
            "_view_module_version": "1.2.0",
            "grid_template_areas": null,
            "object_position": null,
            "object_fit": null,
            "grid_auto_columns": null,
            "margin": null,
            "display": null,
            "left": null
          }
        },
        "0561e1531040474fbe9af60904c1ff0c": {
          "model_module": "@jupyter-widgets/controls",
          "model_name": "HTMLModel",
          "model_module_version": "1.5.0",
          "state": {
            "_view_name": "HTMLView",
            "style": "IPY_MODEL_bb33b16f31024b4cb363770e0e14ae82",
            "_dom_classes": [],
            "description": "",
            "_model_name": "HTMLModel",
            "placeholder": "​",
            "_view_module": "@jupyter-widgets/controls",
            "_model_module_version": "1.5.0",
            "value": "Downloading: 100%",
            "_view_count": null,
            "_view_module_version": "1.5.0",
            "description_tooltip": null,
            "_model_module": "@jupyter-widgets/controls",
            "layout": "IPY_MODEL_8a36d1e6d39542f49799f852459259da"
          }
        },
        "80b6ae6e7df64933b98b96364f2ebf07": {
          "model_module": "@jupyter-widgets/controls",
          "model_name": "FloatProgressModel",
          "model_module_version": "1.5.0",
          "state": {
            "_view_name": "ProgressView",
            "style": "IPY_MODEL_edf579126f674eec92ce5722c975c920",
            "_dom_classes": [],
            "description": "",
            "_model_name": "FloatProgressModel",
            "bar_style": "success",
            "max": 536063208,
            "_view_module": "@jupyter-widgets/controls",
            "_model_module_version": "1.5.0",
            "value": 536063208,
            "_view_count": null,
            "_view_module_version": "1.5.0",
            "orientation": "horizontal",
            "min": 0,
            "description_tooltip": null,
            "_model_module": "@jupyter-widgets/controls",
            "layout": "IPY_MODEL_89bb670d931a46778baedc83ad202e34"
          }
        },
        "13d423824a804c828bd12fe36934a7ef": {
          "model_module": "@jupyter-widgets/controls",
          "model_name": "HTMLModel",
          "model_module_version": "1.5.0",
          "state": {
            "_view_name": "HTMLView",
            "style": "IPY_MODEL_417236276385448a8d3fae0da576a634",
            "_dom_classes": [],
            "description": "",
            "_model_name": "HTMLModel",
            "placeholder": "​",
            "_view_module": "@jupyter-widgets/controls",
            "_model_module_version": "1.5.0",
            "value": " 511M/511M [00:10&lt;00:00, 53.9MB/s]",
            "_view_count": null,
            "_view_module_version": "1.5.0",
            "description_tooltip": null,
            "_model_module": "@jupyter-widgets/controls",
            "layout": "IPY_MODEL_5ac564ec79c84bfcb58146630c54cc85"
          }
        },
        "bb33b16f31024b4cb363770e0e14ae82": {
          "model_module": "@jupyter-widgets/controls",
          "model_name": "DescriptionStyleModel",
          "model_module_version": "1.5.0",
          "state": {
            "_view_name": "StyleView",
            "_model_name": "DescriptionStyleModel",
            "description_width": "",
            "_view_module": "@jupyter-widgets/base",
            "_model_module_version": "1.5.0",
            "_view_count": null,
            "_view_module_version": "1.2.0",
            "_model_module": "@jupyter-widgets/controls"
          }
        },
        "8a36d1e6d39542f49799f852459259da": {
          "model_module": "@jupyter-widgets/base",
          "model_name": "LayoutModel",
          "model_module_version": "1.2.0",
          "state": {
            "_view_name": "LayoutView",
            "grid_template_rows": null,
            "right": null,
            "justify_content": null,
            "_view_module": "@jupyter-widgets/base",
            "overflow": null,
            "_model_module_version": "1.2.0",
            "_view_count": null,
            "flex_flow": null,
            "width": null,
            "min_width": null,
            "border": null,
            "align_items": null,
            "bottom": null,
            "_model_module": "@jupyter-widgets/base",
            "top": null,
            "grid_column": null,
            "overflow_y": null,
            "overflow_x": null,
            "grid_auto_flow": null,
            "grid_area": null,
            "grid_template_columns": null,
            "flex": null,
            "_model_name": "LayoutModel",
            "justify_items": null,
            "grid_row": null,
            "max_height": null,
            "align_content": null,
            "visibility": null,
            "align_self": null,
            "height": null,
            "min_height": null,
            "padding": null,
            "grid_auto_rows": null,
            "grid_gap": null,
            "max_width": null,
            "order": null,
            "_view_module_version": "1.2.0",
            "grid_template_areas": null,
            "object_position": null,
            "object_fit": null,
            "grid_auto_columns": null,
            "margin": null,
            "display": null,
            "left": null
          }
        },
        "edf579126f674eec92ce5722c975c920": {
          "model_module": "@jupyter-widgets/controls",
          "model_name": "ProgressStyleModel",
          "model_module_version": "1.5.0",
          "state": {
            "_view_name": "StyleView",
            "_model_name": "ProgressStyleModel",
            "description_width": "",
            "_view_module": "@jupyter-widgets/base",
            "_model_module_version": "1.5.0",
            "_view_count": null,
            "_view_module_version": "1.2.0",
            "bar_color": null,
            "_model_module": "@jupyter-widgets/controls"
          }
        },
        "89bb670d931a46778baedc83ad202e34": {
          "model_module": "@jupyter-widgets/base",
          "model_name": "LayoutModel",
          "model_module_version": "1.2.0",
          "state": {
            "_view_name": "LayoutView",
            "grid_template_rows": null,
            "right": null,
            "justify_content": null,
            "_view_module": "@jupyter-widgets/base",
            "overflow": null,
            "_model_module_version": "1.2.0",
            "_view_count": null,
            "flex_flow": null,
            "width": null,
            "min_width": null,
            "border": null,
            "align_items": null,
            "bottom": null,
            "_model_module": "@jupyter-widgets/base",
            "top": null,
            "grid_column": null,
            "overflow_y": null,
            "overflow_x": null,
            "grid_auto_flow": null,
            "grid_area": null,
            "grid_template_columns": null,
            "flex": null,
            "_model_name": "LayoutModel",
            "justify_items": null,
            "grid_row": null,
            "max_height": null,
            "align_content": null,
            "visibility": null,
            "align_self": null,
            "height": null,
            "min_height": null,
            "padding": null,
            "grid_auto_rows": null,
            "grid_gap": null,
            "max_width": null,
            "order": null,
            "_view_module_version": "1.2.0",
            "grid_template_areas": null,
            "object_position": null,
            "object_fit": null,
            "grid_auto_columns": null,
            "margin": null,
            "display": null,
            "left": null
          }
        },
        "417236276385448a8d3fae0da576a634": {
          "model_module": "@jupyter-widgets/controls",
          "model_name": "DescriptionStyleModel",
          "model_module_version": "1.5.0",
          "state": {
            "_view_name": "StyleView",
            "_model_name": "DescriptionStyleModel",
            "description_width": "",
            "_view_module": "@jupyter-widgets/base",
            "_model_module_version": "1.5.0",
            "_view_count": null,
            "_view_module_version": "1.2.0",
            "_model_module": "@jupyter-widgets/controls"
          }
        },
        "5ac564ec79c84bfcb58146630c54cc85": {
          "model_module": "@jupyter-widgets/base",
          "model_name": "LayoutModel",
          "model_module_version": "1.2.0",
          "state": {
            "_view_name": "LayoutView",
            "grid_template_rows": null,
            "right": null,
            "justify_content": null,
            "_view_module": "@jupyter-widgets/base",
            "overflow": null,
            "_model_module_version": "1.2.0",
            "_view_count": null,
            "flex_flow": null,
            "width": null,
            "min_width": null,
            "border": null,
            "align_items": null,
            "bottom": null,
            "_model_module": "@jupyter-widgets/base",
            "top": null,
            "grid_column": null,
            "overflow_y": null,
            "overflow_x": null,
            "grid_auto_flow": null,
            "grid_area": null,
            "grid_template_columns": null,
            "flex": null,
            "_model_name": "LayoutModel",
            "justify_items": null,
            "grid_row": null,
            "max_height": null,
            "align_content": null,
            "visibility": null,
            "align_self": null,
            "height": null,
            "min_height": null,
            "padding": null,
            "grid_auto_rows": null,
            "grid_gap": null,
            "max_width": null,
            "order": null,
            "_view_module_version": "1.2.0",
            "grid_template_areas": null,
            "object_position": null,
            "object_fit": null,
            "grid_auto_columns": null,
            "margin": null,
            "display": null,
            "left": null
          }
        }
      }
    }
  },
  "cells": [
    {
      "cell_type": "markdown",
      "metadata": {
        "id": "view-in-github",
        "colab_type": "text"
      },
      "source": [
        "<a href=\"https://colab.research.google.com/github/mnwato/nlp-projects/blob/master/text-Classification-using-bert.ipynb\" target=\"_parent\"><img src=\"https://colab.research.google.com/assets/colab-badge.svg\" alt=\"Open In Colab\"/></a>"
      ]
    },
    {
      "cell_type": "code",
      "metadata": {
        "id": "GVC21g9B7LLX",
        "colab": {
          "base_uri": "https://localhost:8080/"
        },
        "outputId": "e0b2955e-c372-46f8-8a3c-aab46771b65d"
      },
      "source": [
        "!pip install transformers\n",
        "\n",
        "from transformers import BertTokenizer, BertTokenizerFast"
      ],
      "execution_count": 1,
      "outputs": [
        {
          "output_type": "stream",
          "name": "stdout",
          "text": [
            "Requirement already satisfied: transformers in /usr/local/lib/python3.7/dist-packages (4.15.0)\n",
            "Requirement already satisfied: regex!=2019.12.17 in /usr/local/lib/python3.7/dist-packages (from transformers) (2019.12.20)\n",
            "Requirement already satisfied: tqdm>=4.27 in /usr/local/lib/python3.7/dist-packages (from transformers) (4.62.3)\n",
            "Requirement already satisfied: requests in /usr/local/lib/python3.7/dist-packages (from transformers) (2.23.0)\n",
            "Requirement already satisfied: importlib-metadata in /usr/local/lib/python3.7/dist-packages (from transformers) (4.10.0)\n",
            "Requirement already satisfied: pyyaml>=5.1 in /usr/local/lib/python3.7/dist-packages (from transformers) (6.0)\n",
            "Requirement already satisfied: packaging>=20.0 in /usr/local/lib/python3.7/dist-packages (from transformers) (21.3)\n",
            "Requirement already satisfied: tokenizers<0.11,>=0.10.1 in /usr/local/lib/python3.7/dist-packages (from transformers) (0.10.3)\n",
            "Requirement already satisfied: filelock in /usr/local/lib/python3.7/dist-packages (from transformers) (3.4.2)\n",
            "Requirement already satisfied: numpy>=1.17 in /usr/local/lib/python3.7/dist-packages (from transformers) (1.19.5)\n",
            "Requirement already satisfied: sacremoses in /usr/local/lib/python3.7/dist-packages (from transformers) (0.0.47)\n",
            "Requirement already satisfied: huggingface-hub<1.0,>=0.1.0 in /usr/local/lib/python3.7/dist-packages (from transformers) (0.4.0)\n",
            "Requirement already satisfied: typing-extensions>=3.7.4.3 in /usr/local/lib/python3.7/dist-packages (from huggingface-hub<1.0,>=0.1.0->transformers) (3.10.0.2)\n",
            "Requirement already satisfied: pyparsing!=3.0.5,>=2.0.2 in /usr/local/lib/python3.7/dist-packages (from packaging>=20.0->transformers) (3.0.6)\n",
            "Requirement already satisfied: zipp>=0.5 in /usr/local/lib/python3.7/dist-packages (from importlib-metadata->transformers) (3.7.0)\n",
            "Requirement already satisfied: urllib3!=1.25.0,!=1.25.1,<1.26,>=1.21.1 in /usr/local/lib/python3.7/dist-packages (from requests->transformers) (1.24.3)\n",
            "Requirement already satisfied: idna<3,>=2.5 in /usr/local/lib/python3.7/dist-packages (from requests->transformers) (2.10)\n",
            "Requirement already satisfied: chardet<4,>=3.0.2 in /usr/local/lib/python3.7/dist-packages (from requests->transformers) (3.0.4)\n",
            "Requirement already satisfied: certifi>=2017.4.17 in /usr/local/lib/python3.7/dist-packages (from requests->transformers) (2021.10.8)\n",
            "Requirement already satisfied: six in /usr/local/lib/python3.7/dist-packages (from sacremoses->transformers) (1.15.0)\n",
            "Requirement already satisfied: joblib in /usr/local/lib/python3.7/dist-packages (from sacremoses->transformers) (1.1.0)\n",
            "Requirement already satisfied: click in /usr/local/lib/python3.7/dist-packages (from sacremoses->transformers) (7.1.2)\n"
          ]
        }
      ]
    },
    {
      "cell_type": "code",
      "source": [
        "import pandas as pd\n",
        "import numpy as np\n",
        "import tensorflow as tf\n",
        "\n",
        "from keras.layers import Dense\n",
        "\n",
        "import nltk\n",
        "nltk.download('punkt')\n",
        "\n",
        "from nltk.tokenize import word_tokenize\n",
        "from tqdm import tqdm"
      ],
      "metadata": {
        "id": "OmS77y5Nf9s9",
        "outputId": "4535cfc7-865e-4403-f4b2-0603c6be7245",
        "colab": {
          "base_uri": "https://localhost:8080/"
        }
      },
      "execution_count": 2,
      "outputs": [
        {
          "output_type": "stream",
          "name": "stdout",
          "text": [
            "[nltk_data] Downloading package punkt to /root/nltk_data...\n",
            "[nltk_data]   Unzipping tokenizers/punkt.zip.\n"
          ]
        }
      ]
    },
    {
      "cell_type": "code",
      "source": [
        "useTPU = False"
      ],
      "metadata": {
        "id": "cX6CLXKwjeJW"
      },
      "execution_count": 13,
      "outputs": []
    },
    {
      "cell_type": "code",
      "source": [
        "!gdown --id 1eBv1-DDZGxdFxOAAOoGzAEjtp_WSRb1I"
      ],
      "metadata": {
        "id": "ZYGoyv7Ohf8X",
        "outputId": "8402e1e0-33ac-4f87-883d-460590dc3fb4",
        "colab": {
          "base_uri": "https://localhost:8080/"
        }
      },
      "execution_count": 3,
      "outputs": [
        {
          "output_type": "stream",
          "name": "stdout",
          "text": [
            "Downloading...\n",
            "From: https://drive.google.com/uc?id=1eBv1-DDZGxdFxOAAOoGzAEjtp_WSRb1I\n",
            "To: /content/train.csv\n",
            "100% 20.1M/20.1M [00:00<00:00, 123MB/s]\n"
          ]
        }
      ]
    },
    {
      "cell_type": "code",
      "source": [
        "df = pd.read_csv('train.csv')\n",
        "df.head(2)"
      ],
      "metadata": {
        "id": "FIkSf-5KhpIU",
        "outputId": "d9eaff45-85d8-46af-841e-9acee7157f98",
        "colab": {
          "base_uri": "https://localhost:8080/",
          "height": 112
        }
      },
      "execution_count": 4,
      "outputs": [
        {
          "output_type": "execute_result",
          "data": {
            "text/html": [
              "\n",
              "  <div id=\"df-9eff4c59-3aaf-49ad-bae6-2a5e9745de7c\">\n",
              "    <div class=\"colab-df-container\">\n",
              "      <div>\n",
              "<style scoped>\n",
              "    .dataframe tbody tr th:only-of-type {\n",
              "        vertical-align: middle;\n",
              "    }\n",
              "\n",
              "    .dataframe tbody tr th {\n",
              "        vertical-align: top;\n",
              "    }\n",
              "\n",
              "    .dataframe thead th {\n",
              "        text-align: right;\n",
              "    }\n",
              "</style>\n",
              "<table border=\"1\" class=\"dataframe\">\n",
              "  <thead>\n",
              "    <tr style=\"text-align: right;\">\n",
              "      <th></th>\n",
              "      <th>Input</th>\n",
              "      <th>Output</th>\n",
              "      <th>Label</th>\n",
              "    </tr>\n",
              "  </thead>\n",
              "  <tbody>\n",
              "    <tr>\n",
              "      <th>0</th>\n",
              "      <td>I'd like to start by talking about prices .</td>\n",
              "      <td>I'd be glad to answer any questions you may h...</td>\n",
              "      <td>1</td>\n",
              "    </tr>\n",
              "    <tr>\n",
              "      <th>1</th>\n",
              "      <td>Why ? Isn't it obvious ? First you impose way...</td>\n",
              "      <td>I'm very sorry for that , but I sent you seve...</td>\n",
              "      <td>1</td>\n",
              "    </tr>\n",
              "  </tbody>\n",
              "</table>\n",
              "</div>\n",
              "      <button class=\"colab-df-convert\" onclick=\"convertToInteractive('df-9eff4c59-3aaf-49ad-bae6-2a5e9745de7c')\"\n",
              "              title=\"Convert this dataframe to an interactive table.\"\n",
              "              style=\"display:none;\">\n",
              "        \n",
              "  <svg xmlns=\"http://www.w3.org/2000/svg\" height=\"24px\"viewBox=\"0 0 24 24\"\n",
              "       width=\"24px\">\n",
              "    <path d=\"M0 0h24v24H0V0z\" fill=\"none\"/>\n",
              "    <path d=\"M18.56 5.44l.94 2.06.94-2.06 2.06-.94-2.06-.94-.94-2.06-.94 2.06-2.06.94zm-11 1L8.5 8.5l.94-2.06 2.06-.94-2.06-.94L8.5 2.5l-.94 2.06-2.06.94zm10 10l.94 2.06.94-2.06 2.06-.94-2.06-.94-.94-2.06-.94 2.06-2.06.94z\"/><path d=\"M17.41 7.96l-1.37-1.37c-.4-.4-.92-.59-1.43-.59-.52 0-1.04.2-1.43.59L10.3 9.45l-7.72 7.72c-.78.78-.78 2.05 0 2.83L4 21.41c.39.39.9.59 1.41.59.51 0 1.02-.2 1.41-.59l7.78-7.78 2.81-2.81c.8-.78.8-2.07 0-2.86zM5.41 20L4 18.59l7.72-7.72 1.47 1.35L5.41 20z\"/>\n",
              "  </svg>\n",
              "      </button>\n",
              "      \n",
              "  <style>\n",
              "    .colab-df-container {\n",
              "      display:flex;\n",
              "      flex-wrap:wrap;\n",
              "      gap: 12px;\n",
              "    }\n",
              "\n",
              "    .colab-df-convert {\n",
              "      background-color: #E8F0FE;\n",
              "      border: none;\n",
              "      border-radius: 50%;\n",
              "      cursor: pointer;\n",
              "      display: none;\n",
              "      fill: #1967D2;\n",
              "      height: 32px;\n",
              "      padding: 0 0 0 0;\n",
              "      width: 32px;\n",
              "    }\n",
              "\n",
              "    .colab-df-convert:hover {\n",
              "      background-color: #E2EBFA;\n",
              "      box-shadow: 0px 1px 2px rgba(60, 64, 67, 0.3), 0px 1px 3px 1px rgba(60, 64, 67, 0.15);\n",
              "      fill: #174EA6;\n",
              "    }\n",
              "\n",
              "    [theme=dark] .colab-df-convert {\n",
              "      background-color: #3B4455;\n",
              "      fill: #D2E3FC;\n",
              "    }\n",
              "\n",
              "    [theme=dark] .colab-df-convert:hover {\n",
              "      background-color: #434B5C;\n",
              "      box-shadow: 0px 1px 3px 1px rgba(0, 0, 0, 0.15);\n",
              "      filter: drop-shadow(0px 1px 2px rgba(0, 0, 0, 0.3));\n",
              "      fill: #FFFFFF;\n",
              "    }\n",
              "  </style>\n",
              "\n",
              "      <script>\n",
              "        const buttonEl =\n",
              "          document.querySelector('#df-9eff4c59-3aaf-49ad-bae6-2a5e9745de7c button.colab-df-convert');\n",
              "        buttonEl.style.display =\n",
              "          google.colab.kernel.accessAllowed ? 'block' : 'none';\n",
              "\n",
              "        async function convertToInteractive(key) {\n",
              "          const element = document.querySelector('#df-9eff4c59-3aaf-49ad-bae6-2a5e9745de7c');\n",
              "          const dataTable =\n",
              "            await google.colab.kernel.invokeFunction('convertToInteractive',\n",
              "                                                     [key], {});\n",
              "          if (!dataTable) return;\n",
              "\n",
              "          const docLinkHtml = 'Like what you see? Visit the ' +\n",
              "            '<a target=\"_blank\" href=https://colab.research.google.com/notebooks/data_table.ipynb>data table notebook</a>'\n",
              "            + ' to learn more about interactive tables.';\n",
              "          element.innerHTML = '';\n",
              "          dataTable['output_type'] = 'display_data';\n",
              "          await google.colab.output.renderOutput(dataTable, element);\n",
              "          const docLink = document.createElement('div');\n",
              "          docLink.innerHTML = docLinkHtml;\n",
              "          element.appendChild(docLink);\n",
              "        }\n",
              "      </script>\n",
              "    </div>\n",
              "  </div>\n",
              "  "
            ],
            "text/plain": [
              "                                               Input  ... Label\n",
              "0       I'd like to start by talking about prices .   ...     1\n",
              "1   Why ? Isn't it obvious ? First you impose way...  ...     1\n",
              "\n",
              "[2 rows x 3 columns]"
            ]
          },
          "metadata": {},
          "execution_count": 4
        }
      ]
    },
    {
      "cell_type": "code",
      "source": [
        "sentences = df['Input']"
      ],
      "metadata": {
        "id": "-At83cPQi9gW"
      },
      "execution_count": 6,
      "outputs": []
    },
    {
      "cell_type": "code",
      "source": [
        "# The PlotLosses function, plots the validation and training loss function during the\n",
        "#  training to give an insight of training the model\n",
        "# from tensorflow import keras\n",
        "from matplotlib import pyplot as plt\n",
        "from IPython.display import clear_output\n",
        "\n",
        "class PlotLosses(tf.keras.callbacks.Callback):\n",
        "  \n",
        "    def on_train_begin(self, logs={}):\n",
        "        self.i = 1\n",
        "        self.x = []\n",
        "        self.losses = []\n",
        "        self.val_losses = []\n",
        "        self.accuracy = []\n",
        "        self.val_accuracy = []\n",
        "        \n",
        "        self.fig = plt.figure()\n",
        "        \n",
        "        self.logs = []\n",
        "\n",
        "    def on_epoch_end(self, epoch, logs={}):\n",
        "        \n",
        "        self.logs.append(logs)\n",
        "        self.x.append(self.i)\n",
        "        self.losses.append(logs.get('loss'))\n",
        "        self.val_losses.append(logs.get('val_loss'))\n",
        "        self.accuracy.append(logs.get('accuracy'))\n",
        "        self.val_accuracy.append(logs.get('val_accuracy'))\n",
        "        self.i += 1\n",
        "        \n",
        "        clear_output(wait=True)\n",
        "        plt.figure(figsize=(8,3))\n",
        "        plt.plot(self.x, self.losses, label=\"loss\")\n",
        "        plt.plot(self.x, self.val_losses, label=\"val_loss\")\n",
        "        plt.legend()\n",
        "        plt.grid()\n",
        "        plt.show();\n",
        "        \n",
        "        plt.figure(figsize=(8,3))\n",
        "        plt.plot(self.x, self.accuracy, label=\"accuracy\")\n",
        "        plt.plot(self.x, self.val_accuracy, label=\"val_accuracy\")\n",
        "        plt.legend()\n",
        "        plt.grid()\n",
        "        plt.show();\n",
        "        \n",
        "        print('*******************************')\n",
        "        print('Validation metrics:')\n",
        "        print('val_losses: {}'.format(round(self.val_losses[-1], 3)),\n",
        "        'val_accuracy: {}'.format(round(self.val_accuracy[-1], 3)) )\n",
        "        \n",
        "plot_losses = PlotLosses()"
      ],
      "metadata": {
        "id": "c0nhiNx2iQRm"
      },
      "execution_count": 9,
      "outputs": []
    },
    {
      "cell_type": "code",
      "source": [
        "# نمودار فراوانی طول جملات \n",
        "\n",
        "def plot_seq_len_distribution(corpus):\n",
        "  sentences = corpus\n",
        "  sent_length = {}\n",
        "\n",
        "  for elem in sentences:\n",
        "    res = len(elem)\n",
        "    if res in sent_length:\n",
        "      sent_length[res]+=1\n",
        "    else:\n",
        "      sent_length[res]=1\n",
        "\n",
        "  print(sent_length)\n",
        "\n",
        "\n",
        "  import matplotlib.pyplot as plt\n",
        "\n",
        "  x = [key for key in sent_length] # length\n",
        "  y = [sent_length[key] for key in sent_length] # number of sentences\n",
        "\n",
        "  plt.figure(figsize=(15,8))\n",
        "  plt.scatter(x, y)\n",
        "  plt.xlabel('Length of sentences')\n",
        "  plt.ylabel('Number of sentences')\n",
        "  plt.grid()\n",
        "  plt.show()\n",
        "\n",
        "\n",
        "  mean = np.mean([len(sent) for sent in sentences]) \n",
        "  std = np.std([len(sent) for sent in sentences]) \n",
        "  print('mean:{}, std:{}'.format(mean, std))\n",
        "\n",
        "plot_seq_len_distribution(sentences)"
      ],
      "metadata": {
        "id": "FXEPbC8liS6U",
        "outputId": "c590655f-7cc8-4826-ce6e-09d7135d406a",
        "colab": {
          "base_uri": "https://localhost:8080/",
          "height": 552
        }
      },
      "execution_count": 10,
      "outputs": [
        {
          "output_type": "stream",
          "name": "stdout",
          "text": [
            "{44: 2088, 135: 202, 92: 652, 21: 1674, 83: 838, 24: 1990, 26: 2192, 18: 1236, 157: 154, 41: 2242, 63: 1266, 65: 1234, 95: 536, 36: 2330, 67: 1140, 34: 2502, 37: 2354, 23: 2028, 48: 1944, 30: 2258, 89: 668, 61: 1438, 132: 284, 70: 1042, 84: 860, 58: 1578, 27: 2080, 118: 290, 71: 1022, 88: 676, 25: 2134, 120: 332, 43: 2102, 100: 456, 62: 1340, 126: 254, 156: 100, 80: 896, 79: 922, 31: 2372, 22: 1854, 20: 1672, 60: 1508, 28: 2172, 56: 1550, 12: 602, 155: 168, 33: 2446, 19: 1350, 50: 1928, 16: 1290, 39: 2234, 110: 398, 66: 1132, 59: 1448, 32: 2412, 42: 2290, 38: 2332, 165: 110, 115: 320, 76: 976, 72: 1034, 17: 1404, 81: 830, 29: 2194, 151: 190, 98: 498, 55: 1532, 160: 128, 97: 516, 211: 48, 111: 408, 362: 4, 40: 2490, 104: 454, 57: 1626, 53: 1666, 78: 872, 93: 564, 105: 408, 101: 510, 69: 1082, 194: 88, 148: 186, 114: 302, 113: 300, 47: 1970, 64: 1290, 94: 530, 136: 228, 54: 1608, 45: 2100, 8: 578, 86: 764, 35: 2470, 75: 1056, 15: 986, 107: 414, 183: 82, 177: 84, 85: 778, 51: 1828, 129: 280, 46: 1996, 108: 404, 7: 694, 472: 2, 73: 1122, 138: 238, 77: 848, 116: 278, 124: 314, 260: 16, 103: 416, 68: 1076, 74: 994, 170: 96, 142: 194, 91: 660, 49: 1874, 6: 256, 164: 116, 149: 186, 123: 296, 99: 478, 144: 170, 52: 1794, 119: 320, 249: 20, 147: 170, 128: 226, 130: 252, 141: 178, 152: 132, 127: 238, 167: 138, 117: 326, 121: 320, 122: 308, 10: 510, 102: 440, 214: 42, 82: 788, 163: 130, 373: 4, 137: 194, 161: 132, 188: 84, 217: 48, 87: 716, 175: 92, 140: 248, 181: 82, 197: 66, 125: 278, 158: 114, 14: 1032, 205: 80, 96: 516, 206: 80, 248: 16, 234: 24, 259: 16, 228: 24, 90: 702, 131: 182, 507: 6, 13: 1070, 182: 86, 11: 492, 112: 290, 186: 82, 169: 114, 150: 176, 250: 36, 106: 382, 178: 78, 210: 46, 203: 66, 192: 86, 207: 104, 271: 10, 404: 8, 436: 6, 162: 136, 201: 70, 236: 32, 221: 46, 133: 244, 294: 12, 179: 106, 176: 86, 269: 28, 366: 6, 198: 74, 145: 178, 199: 76, 251: 26, 252: 22, 208: 88, 184: 82, 550: 6, 376: 6, 174: 110, 306: 2, 224: 42, 400: 2, 134: 160, 216: 30, 153: 174, 313: 6, 159: 144, 438: 12, 9: 296, 229: 30, 109: 356, 275: 16, 154: 150, 434: 2, 219: 38, 237: 20, 233: 32, 286: 10, 289: 8, 274: 16, 288: 6, 391: 2, 191: 78, 173: 90, 284: 20, 213: 54, 244: 36, 334: 12, 146: 154, 202: 94, 262: 10, 139: 224, 166: 124, 257: 20, 371: 6, 317: 4, 300: 18, 204: 80, 246: 22, 168: 94, 230: 14, 225: 34, 330: 8, 240: 24, 195: 52, 220: 32, 380: 4, 172: 104, 209: 72, 185: 76, 187: 72, 285: 4, 143: 164, 180: 118, 196: 72, 402: 2, 265: 22, 171: 86, 565: 4, 189: 80, 256: 38, 190: 58, 365: 4, 307: 10, 297: 12, 385: 2, 609: 4, 227: 20, 272: 10, 408: 4, 350: 4, 304: 4, 242: 28, 469: 4, 254: 28, 235: 26, 267: 4, 263: 18, 331: 8, 218: 42, 704: 2, 347: 4, 390: 6, 425: 2, 226: 40, 1160: 4, 193: 86, 222: 28, 258: 14, 388: 4, 253: 26, 292: 14, 296: 4, 255: 10, 452: 2, 426: 2, 521: 2, 200: 80, 282: 10, 238: 18, 283: 20, 243: 34, 276: 14, 338: 12, 245: 24, 382: 2, 430: 4, 351: 2, 378: 6, 223: 28, 336: 8, 295: 6, 428: 4, 231: 32, 324: 8, 353: 2, 241: 38, 212: 42, 215: 44, 332: 10, 322: 12, 578: 2, 697: 2, 473: 2, 268: 12, 290: 18, 337: 4, 280: 10, 328: 10, 270: 18, 266: 16, 321: 8, 413: 10, 264: 10, 419: 2, 393: 4, 279: 8, 312: 12, 477: 8, 348: 10, 383: 8, 344: 2, 298: 16, 302: 6, 398: 4, 323: 14, 273: 16, 364: 6, 239: 12, 277: 6, 437: 4, 299: 12, 446: 2, 386: 8, 372: 4, 308: 14, 281: 6, 261: 14, 320: 14, 346: 4, 440: 2, 316: 2, 417: 4, 424: 2, 4: 4, 247: 8, 807: 2, 343: 4, 827: 2, 5: 10, 278: 12, 403: 2, 607: 2, 504: 2, 1113: 2, 399: 6, 384: 6, 303: 6, 326: 4, 652: 2, 394: 2, 329: 4, 358: 6, 411: 6, 409: 2, 232: 30, 3: 2, 520: 2, 314: 10, 305: 2, 454: 4, 369: 4, 474: 2, 356: 4, 544: 2, 293: 6, 506: 2, 370: 4, 318: 10, 310: 4, 291: 6, 788: 2, 499: 2, 451: 2, 457: 2, 360: 2, 471: 2, 335: 4, 349: 6, 706: 2, 325: 4, 319: 4, 416: 2, 342: 6, 470: 2, 421: 4, 315: 14, 339: 4, 359: 4, 433: 2, 635: 2, 340: 6, 311: 10, 287: 8, 453: 2, 396: 2, 395: 4, 447: 2, 361: 2, 368: 2, 401: 2, 481: 2, 581: 2, 847: 2, 654: 2, 309: 4, 493: 2, 703: 2, 381: 2, 816: 2, 414: 2, 485: 2, 571: 2, 558: 2, 301: 2, 410: 4, 468: 2, 585: 2, 406: 2, 555: 4}\n"
          ]
        },
        {
          "output_type": "display_data",
          "data": {
            "image/png": "[encoded data removed]",
            "text/plain": [
              "<Figure size 1080x576 with 1 Axes>"
            ]
          },
          "metadata": {
            "needs_background": "light"
          }
        },
        {
          "output_type": "stream",
          "name": "stdout",
          "text": [
            "mean:62.98912586125283, std:49.73214399575116\n"
          ]
        }
      ]
    },
    {
      "cell_type": "code",
      "source": [
        "max_len = 70\n",
        "\n",
        "# معرفی توکنایزر برت\n",
        "bert_tokenizer = BertTokenizer.from_pretrained('bert-base-uncased')\n",
        "# bert_tokenizer = BertTokenizerFast.from_pretrained('bert-base-uncased')\n",
        "\n",
        "\n",
        "\n",
        "# اعمال توکنایزر برت\n",
        "def encode_texts(tokenizer, texts):\n",
        "    # return tokenizer(texts, padding=True, truncation=True, return_tensors=\"tf\")\n",
        "    return tokenizer(texts, add_special_tokens=True, max_length=max_len, pad_to_max_length=True,\n",
        "                     return_attention_mask=True, return_tensors=\"tf\")"
      ],
      "metadata": {
        "id": "xwCPYI40iV3d"
      },
      "execution_count": 11,
      "outputs": []
    },
    {
      "cell_type": "code",
      "source": [
        "texts = [d for d in sentences]\n",
        "tds = encode_texts(bert_tokenizer, texts)\n",
        "tds.keys()\n",
        "\n",
        "encoded_texts = tds"
      ],
      "metadata": {
        "id": "0Y8QsEn_iYAc",
        "outputId": "86f7f626-1290-4484-a1aa-f73438e1aba2",
        "colab": {
          "base_uri": "https://localhost:8080/"
        }
      },
      "execution_count": 12,
      "outputs": [
        {
          "output_type": "stream",
          "name": "stderr",
          "text": [
            "Truncation was not explicitly activated but `max_length` is provided a specific value, please use `truncation=True` to explicitly truncate examples to max length. Defaulting to 'longest_first' truncation strategy. If you encode pairs of sequences (GLUE-style) with the tokenizer you can select this strategy more precisely by providing a specific strategy to `truncation`.\n",
            "/usr/local/lib/python3.7/dist-packages/transformers/tokenization_utils_base.py:2232: FutureWarning: The `pad_to_max_length` argument is deprecated and will be removed in a future version, use `padding=True` or `padding='longest'` to pad to the longest sequence in the batch, or use `padding='max_length'` to pad to a max length. In this case, you can give a specific length with `max_length` (e.g. `max_length=45`) or leave max_length to None to pad to the maximal input size of the model (e.g. 512 for Bert).\n",
            "  FutureWarning,\n"
          ]
        }
      ]
    },
    {
      "cell_type": "code",
      "source": [
        "# آماده سازی استفاده از TPU در صورت فعال بودن\n",
        "if useTPU == True:\n",
        "  tpu = tf.distribute.cluster_resolver.TPUClusterResolver()  # TPU detection\n",
        "  print('Running on TPU: ', tpu.cluster_spec().as_dict()['worker'])\n",
        "\n",
        "  tf.config.experimental_connect_to_cluster(tpu)\n",
        "  tf.tpu.experimental.initialize_tpu_system(tpu)\n",
        "  strategy = tf.distribute.experimental.TPUStrategy(tpu)\n",
        "  print('Replicas: ', strategy.num_replicas_in_sync)"
      ],
      "metadata": {
        "id": "mSogT95eiZzV"
      },
      "execution_count": 14,
      "outputs": []
    },
    {
      "cell_type": "code",
      "source": [
        "from transformers import TFBertModel, TFBertForPreTraining, BertForTokenClassification\n",
        "\n",
        "tf.get_logger().setLevel('ERROR')\n",
        "\n",
        "loss_object = tf.keras.losses.SparseCategoricalCrossentropy(\n",
        "    from_logits=False, reduction=tf.keras.losses.Reduction.NONE\n",
        ")\n",
        "\n",
        "\n",
        "def create_model():\n",
        "  bert = TFBertModel.from_pretrained('bert-base-uncased')\n",
        "\n",
        "  # define inputs layers\n",
        "  input_ids = tf.keras.layers.Input(shape=(max_len,), name='input_ids', dtype='int32')\n",
        "  input_mask = tf.keras.layers.Input(shape=(max_len,), name='attention_mask', dtype='int32')\n",
        "\n",
        "  # define bert embedding layers\n",
        "  embeddings = bert(input_ids=input_ids, attention_mask=input_mask)[1]\n",
        "\n",
        "  # define output layers\n",
        "  output = tf.keras.layers.Dense(1, activation='sigmoid', name='outputs')(embeddings)\n",
        "\n",
        "  # define Model\n",
        "  bert_model0 = tf.keras.Model(inputs=[input_ids, input_mask], outputs=output)\n",
        "\n",
        "  bert_model0.summary()\n",
        "\n",
        "  return bert_model0\n",
        "\n",
        "\n",
        "def prepair_model():\n",
        "  model = create_model()\n",
        "\n",
        "  optimizer = tf.keras.optimizers.Adam(learning_rate=2e-5, epsilon=1e-8)\n",
        "  model.compile(optimizer,\n",
        "                loss='binary_crossentropy',\n",
        "                metrics=['accuracy'])\n",
        "  return model"
      ],
      "metadata": {
        "id": "f2RydpLAibFd"
      },
      "execution_count": 15,
      "outputs": []
    },
    {
      "cell_type": "code",
      "source": [
        "model = create_model()\n",
        "\n",
        "from keras.utils.vis_utils import plot_model\n",
        "plot_model(model, to_file='model_plot.png', show_shapes=True, show_layer_names=True)"
      ],
      "metadata": {
        "id": "Rc7bP3cOigE9",
        "outputId": "edb79348-fa62-4ed5-c84b-2d2ea4750ac3",
        "colab": {
          "base_uri": "https://localhost:8080/",
          "height": 840,
          "referenced_widgets": [
            "0cdf779377a143f1819f8d2bd44683f8",
            "bce0f0fcbd874ef4a380959ad93ff5f4",
            "0561e1531040474fbe9af60904c1ff0c",
            "80b6ae6e7df64933b98b96364f2ebf07",
            "13d423824a804c828bd12fe36934a7ef",
            "bb33b16f31024b4cb363770e0e14ae82",
            "8a36d1e6d39542f49799f852459259da",
            "edf579126f674eec92ce5722c975c920",
            "89bb670d931a46778baedc83ad202e34",
            "417236276385448a8d3fae0da576a634",
            "5ac564ec79c84bfcb58146630c54cc85"
          ]
        }
      },
      "execution_count": 16,
      "outputs": [
        {
          "output_type": "display_data",
          "data": {
            "application/vnd.jupyter.widget-view+json": {
              "model_id": "0cdf779377a143f1819f8d2bd44683f8",
              "version_minor": 0,
              "version_major": 2
            },
            "text/plain": [
              "Downloading:   0%|          | 0.00/511M [00:00<?, ?B/s]"
            ]
          },
          "metadata": {}
        },
        {
          "output_type": "stream",
          "name": "stderr",
          "text": [
            "Some layers from the model checkpoint at bert-base-uncased were not used when initializing TFBertModel: ['nsp___cls', 'mlm___cls']\n",
            "- This IS expected if you are initializing TFBertModel from the checkpoint of a model trained on another task or with another architecture (e.g. initializing a BertForSequenceClassification model from a BertForPreTraining model).\n",
            "- This IS NOT expected if you are initializing TFBertModel from the checkpoint of a model that you expect to be exactly identical (initializing a BertForSequenceClassification model from a BertForSequenceClassification model).\n",
            "All the layers of TFBertModel were initialized from the model checkpoint at bert-base-uncased.\n",
            "If your task is similar to the task the model of the checkpoint was trained on, you can already use TFBertModel for predictions without further training.\n"
          ]
        },
        {
          "output_type": "stream",
          "name": "stdout",
          "text": [
            "Model: \"model\"\n",
            "__________________________________________________________________________________________________\n",
            " Layer (type)                   Output Shape         Param #     Connected to                     \n",
            "==================================================================================================\n",
            " input_ids (InputLayer)         [(None, 70)]         0           []                               \n",
            "                                                                                                  \n",
            " attention_mask (InputLayer)    [(None, 70)]         0           []                               \n",
            "                                                                                                  \n",
            " tf_bert_model (TFBertModel)    TFBaseModelOutputWi  109482240   ['input_ids[0][0]',              \n",
            "                                thPoolingAndCrossAt               'attention_mask[0][0]']         \n",
            "                                tentions(last_hidde                                               \n",
            "                                n_state=(None, 70,                                                \n",
            "                                768),                                                             \n",
            "                                 pooler_output=(Non                                               \n",
            "                                e, 768),                                                          \n",
            "                                 past_key_values=No                                               \n",
            "                                ne, hidden_states=N                                               \n",
            "                                one, attentions=Non                                               \n",
            "                                e, cross_attentions                                               \n",
            "                                =None)                                                            \n",
            "                                                                                                  \n",
            " outputs (Dense)                (None, 1)            769         ['tf_bert_model[0][1]']          \n",
            "                                                                                                  \n",
            "==================================================================================================\n",
            "Total params: 109,483,009\n",
            "Trainable params: 109,483,009\n",
            "Non-trainable params: 0\n",
            "__________________________________________________________________________________________________\n"
          ]
        },
        {
          "output_type": "execute_result",
          "data": {
            "image/png": "[encoded data removed]",
            "text/plain": [
              "<IPython.core.display.Image object>"
            ]
          },
          "metadata": {},
          "execution_count": 16
        }
      ]
    },
    {
      "cell_type": "code",
      "source": [
        "def data_spliting(data, train_size, valid_size):\n",
        "    \n",
        "    train_len = int(len(data) * train_size)\n",
        "    valid_len = int((len(data) - train_len) * valid_size)\n",
        "    test_len = (len(data) - train_len) - valid_len\n",
        "    print(f'Total data len {len(data)}\\n',\n",
        "          f' training data len {train_len}\\n',\n",
        "          f'  validation data len {valid_len}\\n'\n",
        "          f'    test data len {test_len}')\n",
        "    return train_len, valid_len, test_len\n",
        "\n",
        "\n",
        "train_len, valid_len, test_len = data_spliting(data=df,\n",
        "                                               train_size=0.8,\n",
        "                                               valid_size=0)\n",
        "xtrain = {\"input_ids\": encoded_texts[\"input_ids\"][0:train_len+valid_len],\n",
        "         \"attention_mask\": encoded_texts[\"attention_mask\"][0:train_len+valid_len]}\n",
        "ytrain = df['Label'][0:train_len+valid_len].astype('int')\n",
        "\n",
        "xtest = {\"input_ids\": encoded_texts[\"input_ids\"][train_len+valid_len:],\n",
        "         \"attention_mask\": encoded_texts[\"attention_mask\"][train_len+valid_len:]}\n",
        "ytest = df['Label'][train_len+valid_len:].astype('int')\n",
        "\n",
        "print()\n",
        "len(ytrain), len(ytest)"
      ],
      "metadata": {
        "id": "mQ9wiBcFiiHd",
        "outputId": "b9706afb-5663-4b39-cf0c-b062841d09bc",
        "colab": {
          "base_uri": "https://localhost:8080/"
        }
      },
      "execution_count": 29,
      "outputs": [
        {
          "output_type": "stream",
          "name": "stdout",
          "text": [
            "Total data len 152104\n",
            "  training data len 121683\n",
            "   validation data len 0\n",
            "    test data len 30421\n",
            "\n"
          ]
        },
        {
          "output_type": "execute_result",
          "data": {
            "text/plain": [
              "(121683, 30421)"
            ]
          },
          "metadata": {},
          "execution_count": 29
        }
      ]
    },
    {
      "cell_type": "code",
      "source": [
        "def fit_model(model):\n",
        "  \n",
        "  history = model.fit(xtrain, ytrain,\n",
        "                      batch_size=32,\n",
        "                      epochs=5,\n",
        "                      validation_split=0.2,\n",
        "                      callbacks=[plot_losses]\n",
        "                      )\n",
        "\n",
        "if useTPU == True: # train with TPU\n",
        "  with strategy.scope():\n",
        "    model = prepair_model()\n",
        "    fit_model(model)\n",
        "else: # train with CPU/GPU\n",
        "  model = prepair_model()\n",
        "  fit_model(model)"
      ],
      "metadata": {
        "id": "G7w5RHBOijkV",
        "outputId": "a72e1f31-d31c-4449-f855-5946da947bcc",
        "colab": {
          "base_uri": "https://localhost:8080/"
        }
      },
      "execution_count": null,
      "outputs": [
        {
          "output_type": "stream",
          "name": "stderr",
          "text": [
            "Some layers from the model checkpoint at bert-base-uncased were not used when initializing TFBertModel: ['nsp___cls', 'mlm___cls']\n",
            "- This IS expected if you are initializing TFBertModel from the checkpoint of a model trained on another task or with another architecture (e.g. initializing a BertForSequenceClassification model from a BertForPreTraining model).\n",
            "- This IS NOT expected if you are initializing TFBertModel from the checkpoint of a model that you expect to be exactly identical (initializing a BertForSequenceClassification model from a BertForSequenceClassification model).\n",
            "All the layers of TFBertModel were initialized from the model checkpoint at bert-base-uncased.\n",
            "If your task is similar to the task the model of the checkpoint was trained on, you can already use TFBertModel for predictions without further training.\n"
          ]
        },
        {
          "output_type": "stream",
          "name": "stdout",
          "text": [
            "Model: \"model_2\"\n",
            "__________________________________________________________________________________________________\n",
            " Layer (type)                   Output Shape         Param #     Connected to                     \n",
            "==================================================================================================\n",
            " input_ids (InputLayer)         [(None, 70)]         0           []                               \n",
            "                                                                                                  \n",
            " attention_mask (InputLayer)    [(None, 70)]         0           []                               \n",
            "                                                                                                  \n",
            " tf_bert_model_2 (TFBertModel)  TFBaseModelOutputWi  109482240   ['input_ids[0][0]',              \n",
            "                                thPoolingAndCrossAt               'attention_mask[0][0]']         \n",
            "                                tentions(last_hidde                                               \n",
            "                                n_state=(None, 70,                                                \n",
            "                                768),                                                             \n",
            "                                 pooler_output=(Non                                               \n",
            "                                e, 768),                                                          \n",
            "                                 past_key_values=No                                               \n",
            "                                ne, hidden_states=N                                               \n",
            "                                one, attentions=Non                                               \n",
            "                                e, cross_attentions                                               \n",
            "                                =None)                                                            \n",
            "                                                                                                  \n",
            " outputs (Dense)                (None, 1)            769         ['tf_bert_model_2[0][1]']        \n",
            "                                                                                                  \n",
            "==================================================================================================\n",
            "Total params: 109,483,009\n",
            "Trainable params: 109,483,009\n",
            "Non-trainable params: 0\n",
            "__________________________________________________________________________________________________\n",
            "Epoch 1/5\n",
            "  66/3043 [..............................] - ETA: 21:19 - loss: 0.7080 - accuracy: 0.4796"
          ]
        }
      ]
    }
  ]
}