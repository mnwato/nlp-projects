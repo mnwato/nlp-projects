{
  "nbformat": 4,
  "nbformat_minor": 0,
  "metadata": {
    "kernelspec": {
      "display_name": "Python 3",
      "language": "python",
      "name": "python3"
    },
    "language_info": {
      "codemirror_mode": {
        "name": "ipython",
        "version": 2
      },
      "file_extension": ".py",
      "mimetype": "text/x-python",
      "name": "python",
      "nbconvert_exporter": "python",
      "pygments_lexer": "ipython2",
      "version": "2.7.6"
    },
    "colab": {
      "name": "Paraphrase Identification using Siamese Network.ipynb",
      "provenance": [],
      "include_colab_link": true
    }
  },
  "cells": [
    {
      "cell_type": "markdown",
      "metadata": {
        "id": "view-in-github",
        "colab_type": "text"
      },
      "source": [
        "<a href=\"https://colab.research.google.com/github/mnwato/nlp-projects/blob/master/Paraphrase%20Identification%20using%20Siamese%20Network.ipynb\" target=\"_parent\"><img src=\"https://colab.research.google.com/assets/colab-badge.svg\" alt=\"Open In Colab\"/></a>"
      ]
    },
    {
      "cell_type": "markdown",
      "metadata": {
        "id": "lg9Ht7RT9hM2"
      },
      "source": [
        "# Define prams"
      ]
    },
    {
      "cell_type": "code",
      "metadata": {
        "id": "SBSH4v3w9g3E"
      },
      "source": [
        "# Set it to be True if you want to use pretraine Models\n",
        "usePretrainedModel = True"
      ],
      "execution_count": 24,
      "outputs": []
    },
    {
      "cell_type": "markdown",
      "metadata": {
        "id": "hNi3NTqA6VAd"
      },
      "source": [
        "# Download and load data"
      ]
    },
    {
      "cell_type": "markdown",
      "metadata": {
        "id": "ViCN7lF76jfX"
      },
      "source": [
        "## Download"
      ]
    },
    {
      "cell_type": "code",
      "metadata": {
        "collapsed": true,
        "id": "ND5VFRii6Qlv",
        "colab": {
          "base_uri": "https://localhost:8080/"
        },
        "outputId": "954f13c1-1f40-4f0d-d596-a9cf3275f33e"
      },
      "source": [
        "# Download train, valid, test data\n",
        "!gdown --id 17eLq5Ng5yfbX9tLq2tdiOdscO0ea8xK5\n",
        "!gdown --id 1Y-68UagW14hwJXNyaR2HnML5jEwvjQlj\n",
        "!gdown --id 1P_HLLvGq15gsgDl5P6QYrHkTlkcytMdr\n",
        "\n",
        "# Download pretrained embedding\n",
        "!gdown --id 1-6eFo8BJxG-_tH-ErDFCvkbk9cqfatzr\n",
        "!unzip *\\zip"
      ],
      "execution_count": 13,
      "outputs": [
        {
          "output_type": "stream",
          "name": "stdout",
          "text": [
            "Downloading...\n",
            "From: https://drive.google.com/uc?id=17eLq5Ng5yfbX9tLq2tdiOdscO0ea8xK5\n",
            "To: /content/train.csv\n",
            "100% 951k/951k [00:00<00:00, 60.9MB/s]\n",
            "Downloading...\n",
            "From: https://drive.google.com/uc?id=1Y-68UagW14hwJXNyaR2HnML5jEwvjQlj\n",
            "To: /content/valid.csv\n",
            "100% 105k/105k [00:00<00:00, 38.3MB/s]\n",
            "Downloading...\n",
            "From: https://drive.google.com/uc?id=1P_HLLvGq15gsgDl5P6QYrHkTlkcytMdr\n",
            "To: /content/test.csv\n",
            "100% 444k/444k [00:00<00:00, 59.0MB/s]\n",
            "Downloading...\n",
            "From: https://drive.google.com/uc?id=1-6eFo8BJxG-_tH-ErDFCvkbk9cqfatzr\n",
            "To: /content/data.zip\n",
            "100% 10.3M/10.3M [00:00<00:00, 90.1MB/s]\n",
            "Archive:  data.zip\n",
            "replace BiLSTM-1631371335model-20-0.690.hdf5? [y]es, [n]o, [A]ll, [N]one, [r]ename: y\n",
            "  inflating: BiLSTM-1631371335model-20-0.690.hdf5  \n",
            "replace GRU-1631369260model-20-0.683.hdf5? [y]es, [n]o, [A]ll, [N]one, [r]ename: y\n",
            "  inflating: GRU-1631369260model-20-0.683.hdf5  \n",
            "replace LSTM-1631368803model-15-0.688.hdf5? [y]es, [n]o, [A]ll, [N]one, [r]ename: y\n",
            "  inflating: LSTM-1631368803model-15-0.688.hdf5  \n",
            "replace w2v_100d.txt? [y]es, [n]o, [A]ll, [N]one, [r]ename: y\n",
            "  inflating: w2v_100d.txt            \n"
          ]
        }
      ]
    },
    {
      "cell_type": "markdown",
      "metadata": {
        "id": "zryhCG3F6hnD"
      },
      "source": [
        "## load"
      ]
    },
    {
      "cell_type": "code",
      "metadata": {
        "pycharm": {
          "name": "#%%\n"
        },
        "id": "PTnkNlMQ6Qly",
        "colab": {
          "base_uri": "https://localhost:8080/",
          "height": 110
        },
        "outputId": "6c773a4c-2df2-4719-d7ce-9523615869a2"
      },
      "source": [
        "from gensim.models import Word2Vec\n",
        "import pandas as pd\n",
        "\n",
        "df_train = pd.read_csv('/content/train.csv')\n",
        "df_test = pd.read_csv('/content/test.csv')\n",
        "df_valid = pd.read_csv('/content/valid.csv')\n",
        "columns=['label', 'id1', 'id2', 'sentence1', 'sentence2']\n",
        "\n",
        "df_train = df_train.drop(columns=['Unnamed: 0'])\n",
        "df_test = df_test.drop(columns=['Unnamed: 0'])\n",
        "df_valid = df_valid.drop(columns=['Unnamed: 0'])\n",
        "\n",
        "df_train.columns=columns\n",
        "df_test.columns=columns\n",
        "df_valid.columns=columns\n",
        "\n",
        "df_train.head(2)"
      ],
      "execution_count": 14,
      "outputs": [
        {
          "output_type": "execute_result",
          "data": {
            "text/html": [
              "<div>\n",
              "<style scoped>\n",
              "    .dataframe tbody tr th:only-of-type {\n",
              "        vertical-align: middle;\n",
              "    }\n",
              "\n",
              "    .dataframe tbody tr th {\n",
              "        vertical-align: top;\n",
              "    }\n",
              "\n",
              "    .dataframe thead th {\n",
              "        text-align: right;\n",
              "    }\n",
              "</style>\n",
              "<table border=\"1\" class=\"dataframe\">\n",
              "  <thead>\n",
              "    <tr style=\"text-align: right;\">\n",
              "      <th></th>\n",
              "      <th>label</th>\n",
              "      <th>id1</th>\n",
              "      <th>id2</th>\n",
              "      <th>sentence1</th>\n",
              "      <th>sentence2</th>\n",
              "    </tr>\n",
              "  </thead>\n",
              "  <tbody>\n",
              "    <tr>\n",
              "      <th>0</th>\n",
              "      <td>1</td>\n",
              "      <td>702876</td>\n",
              "      <td>702977</td>\n",
              "      <td>Amrozi accused his brother, whom he called \"th...</td>\n",
              "      <td>Referring to him as only \"the witness\", Amrozi...</td>\n",
              "    </tr>\n",
              "    <tr>\n",
              "      <th>1</th>\n",
              "      <td>0</td>\n",
              "      <td>2108705</td>\n",
              "      <td>2108831</td>\n",
              "      <td>Yucaipa owned Dominick's before selling the ch...</td>\n",
              "      <td>Yucaipa bought Dominick's in 1995 for $693 mil...</td>\n",
              "    </tr>\n",
              "  </tbody>\n",
              "</table>\n",
              "</div>"
            ],
            "text/plain": [
              "   label  ...                                          sentence2\n",
              "0      1  ...  Referring to him as only \"the witness\", Amrozi...\n",
              "1      0  ...  Yucaipa bought Dominick's in 1995 for $693 mil...\n",
              "\n",
              "[2 rows x 5 columns]"
            ]
          },
          "metadata": {},
          "execution_count": 14
        }
      ]
    },
    {
      "cell_type": "markdown",
      "metadata": {
        "id": "D4KqXSA265iu"
      },
      "source": [
        "plot number of labels"
      ]
    },
    {
      "cell_type": "code",
      "metadata": {
        "pycharm": {
          "name": "#%%\n"
        },
        "id": "8ICMrUyI6Qly",
        "colab": {
          "base_uri": "https://localhost:8080/",
          "height": 264
        },
        "outputId": "6ec39b32-101f-4fa1-9326-2fa8f9f18c3f"
      },
      "source": [
        "# plot number of labels\n",
        "from matplotlib import pyplot as plt\n",
        "one, zero = df_train['label'].value_counts()\n",
        "\n",
        "plt.bar(['1','0'], [one, zero], width=0.5)\n",
        "plt.show()"
      ],
      "execution_count": 15,
      "outputs": [
        {
          "output_type": "display_data",
          "data": {
            "image/png": "[encoded data removed]",
            "text/plain": [
              "<Figure size 432x288 with 1 Axes>"
            ]
          },
          "metadata": {
            "needs_background": "light"
          }
        }
      ]
    },
    {
      "cell_type": "markdown",
      "metadata": {
        "id": "5rjOX3QX6nT0"
      },
      "source": [
        "## data cleaning"
      ]
    },
    {
      "cell_type": "code",
      "metadata": {
        "pycharm": {
          "name": "#%%\n"
        },
        "id": "hlosA3416Qlz",
        "colab": {
          "base_uri": "https://localhost:8080/",
          "height": 267
        },
        "outputId": "ee6a75dc-65f3-441a-a82c-95bab5a373aa"
      },
      "source": [
        "from nltk.tokenize import word_tokenize\n",
        "import nltk\n",
        "nltk.download('punkt')\n",
        "# nltk.download('stopwords')\n",
        "\n",
        "# Define embedding arguments\n",
        "embedding_dim = 100\n",
        "max_length = 17\n",
        "trunc_type='post'\n",
        "padding_type='post'\n",
        "\n",
        "\n",
        "# Text cleaner function\n",
        "def clean(dataframe):\n",
        "  dataframe[['cleanedSent1', 'cleanedSent2']] = None\n",
        "  for i in range(len(dataframe)):\n",
        "      tokens1 = word_tokenize(dataframe['sentence1'].iloc[i])\n",
        "      tokens2 = word_tokenize(dataframe['sentence2'].iloc[i])\n",
        "      # remove all tokens that are not alphabetic\n",
        "      dataframe['cleanedSent1'].iloc[i] = ' '.join([word for word in tokens1 if word.isalpha()])\n",
        "      dataframe['cleanedSent2'].iloc[i] = ' '.join([word for word in tokens2 if word.isalpha()])\n",
        "  return dataframe\n",
        "\n",
        "df_train = clean(df_train)\n",
        "df_test = clean(df_test)\n",
        "df_valid = clean(df_valid)\n",
        "df_train.head(2)"
      ],
      "execution_count": 16,
      "outputs": [
        {
          "output_type": "stream",
          "name": "stdout",
          "text": [
            "[nltk_data] Downloading package punkt to /root/nltk_data...\n",
            "[nltk_data]   Package punkt is already up-to-date!\n"
          ]
        },
        {
          "output_type": "stream",
          "name": "stderr",
          "text": [
            "/usr/local/lib/python3.7/dist-packages/pandas/core/indexing.py:670: SettingWithCopyWarning: \n",
            "A value is trying to be set on a copy of a slice from a DataFrame\n",
            "\n",
            "See the caveats in the documentation: https://pandas.pydata.org/pandas-docs/stable/user_guide/indexing.html#returning-a-view-versus-a-copy\n",
            "  iloc._setitem_with_indexer(indexer, value)\n"
          ]
        },
        {
          "output_type": "execute_result",
          "data": {
            "text/html": [
              "<div>\n",
              "<style scoped>\n",
              "    .dataframe tbody tr th:only-of-type {\n",
              "        vertical-align: middle;\n",
              "    }\n",
              "\n",
              "    .dataframe tbody tr th {\n",
              "        vertical-align: top;\n",
              "    }\n",
              "\n",
              "    .dataframe thead th {\n",
              "        text-align: right;\n",
              "    }\n",
              "</style>\n",
              "<table border=\"1\" class=\"dataframe\">\n",
              "  <thead>\n",
              "    <tr style=\"text-align: right;\">\n",
              "      <th></th>\n",
              "      <th>label</th>\n",
              "      <th>id1</th>\n",
              "      <th>id2</th>\n",
              "      <th>sentence1</th>\n",
              "      <th>sentence2</th>\n",
              "      <th>cleanedSent1</th>\n",
              "      <th>cleanedSent2</th>\n",
              "    </tr>\n",
              "  </thead>\n",
              "  <tbody>\n",
              "    <tr>\n",
              "      <th>0</th>\n",
              "      <td>1</td>\n",
              "      <td>702876</td>\n",
              "      <td>702977</td>\n",
              "      <td>Amrozi accused his brother, whom he called \"th...</td>\n",
              "      <td>Referring to him as only \"the witness\", Amrozi...</td>\n",
              "      <td>Amrozi accused his brother whom he called the ...</td>\n",
              "      <td>Referring to him as only the witness Amrozi ac...</td>\n",
              "    </tr>\n",
              "    <tr>\n",
              "      <th>1</th>\n",
              "      <td>0</td>\n",
              "      <td>2108705</td>\n",
              "      <td>2108831</td>\n",
              "      <td>Yucaipa owned Dominick's before selling the ch...</td>\n",
              "      <td>Yucaipa bought Dominick's in 1995 for $693 mil...</td>\n",
              "      <td>Yucaipa owned Dominick before selling the chai...</td>\n",
              "      <td>Yucaipa bought Dominick in for million and sol...</td>\n",
              "    </tr>\n",
              "  </tbody>\n",
              "</table>\n",
              "</div>"
            ],
            "text/plain": [
              "   label  ...                                       cleanedSent2\n",
              "0      1  ...  Referring to him as only the witness Amrozi ac...\n",
              "1      0  ...  Yucaipa bought Dominick in for million and sol...\n",
              "\n",
              "[2 rows x 7 columns]"
            ]
          },
          "metadata": {},
          "execution_count": 16
        }
      ]
    },
    {
      "cell_type": "code",
      "metadata": {
        "pycharm": {
          "name": "#%%\n"
        },
        "id": "Sgi3AUvH6Qlz",
        "colab": {
          "base_uri": "https://localhost:8080/"
        },
        "outputId": "731a78b7-2c7c-4094-f3af-9533e644a154"
      },
      "source": [
        "# Text tokenization and sequence padding\n",
        "from tensorflow.keras.preprocessing.text import Tokenizer\n",
        "from tensorflow.keras.preprocessing.sequence import pad_sequences\n",
        "\n",
        "def preprocess(input_list):\n",
        "  tokenizer = Tokenizer()\n",
        "  tokenizer.fit_on_texts(input_list)\n",
        "  word_index = tokenizer.word_index\n",
        "  vocab_size = len(word_index)\n",
        "  print(vocab_size)\n",
        "  sequences = tokenizer.texts_to_sequences(input_list)\n",
        "  padded = pad_sequences(sequences, maxlen=max_length, padding=padding_type, truncating=trunc_type)\n",
        "  return padded, word_index\n",
        "\n",
        "\n",
        "sent1Padded = preprocess(input_list=df_train['cleanedSent1'])[0]\n",
        "sent2Padded = preprocess(input_list=df_train['cleanedSent2'])[0]\n",
        "xtrain = [sent1Padded] + [sent2Padded]\n",
        "ytrain = df_train['label'].values\n",
        "\n",
        "sent1Padded = preprocess(input_list=df_test['cleanedSent1'])[0]\n",
        "sent2Padded = preprocess(input_list=df_test['cleanedSent2'])[0]\n",
        "xtest = [sent1Padded] + [sent2Padded]\n",
        "ytest = df_test['label'].values\n",
        "\n",
        "sent1Padded = preprocess(input_list=df_valid['cleanedSent1'])[0]\n",
        "sent2Padded = preprocess(input_list=df_valid['cleanedSent2'])[0]\n",
        "xvalid = [sent1Padded] + [sent2Padded]\n",
        "yvalid = df_valid['label'].values\n",
        "\n",
        "print(len(xtrain), len(xtrain[0]))\n",
        "print('size of train:{}, test:{}, valid:{}'.format(xtrain[0].shape,\n",
        "                                                   xtest[0].shape,\n",
        "                                                   xvalid[0].shape))"
      ],
      "execution_count": 17,
      "outputs": [
        {
          "output_type": "stream",
          "name": "stdout",
          "text": [
            "9994\n",
            "9937\n",
            "6677\n",
            "6655\n",
            "2630\n",
            "2620\n",
            "2 3669\n",
            "size of train:(3669, 17), test:(1725, 17), valid:(407, 17)\n"
          ]
        }
      ]
    },
    {
      "cell_type": "markdown",
      "metadata": {
        "id": "Fh8SOaDL68u8"
      },
      "source": [
        "## load pretrained embedding"
      ]
    },
    {
      "cell_type": "code",
      "metadata": {
        "pycharm": {
          "name": "#%%\n"
        },
        "id": "XZOU_-PY6Ql2",
        "colab": {
          "base_uri": "https://localhost:8080/"
        },
        "outputId": "e55d484a-f140-49d8-9147-badb28df0b4a"
      },
      "source": [
        "# Load Pretrained embedding\n",
        "import numpy as np\n",
        "\n",
        "emb_path = r'/content/w2v_100d.txt'\n",
        "\n",
        "word_index = preprocess(input_list=df_train['cleanedSent1'])[1]\n",
        "vocab_size = len(word_index)\n",
        "\n",
        "embeddings_index = {}\n",
        "with open(emb_path, encoding='utf-8') as f:\n",
        "    content = f.readlines()\n",
        "    for line in content[1:]:\n",
        "        values = line.split()\n",
        "        word = values[0]\n",
        "        coefs = np.asarray(values[1:], dtype='float32')\n",
        "        embeddings_index[word] = coefs\n",
        "\n",
        "embeddings_matrix = np.zeros((vocab_size+1, embedding_dim))\n",
        "for word, i in word_index.items():\n",
        "    embedding_vector = embeddings_index.get(word)\n",
        "    if embedding_vector is not None:\n",
        "        embeddings_matrix[i] = embedding_vector\n",
        "\n",
        "print('number of unique words in pretrained emb:', len(embeddings_index))\n",
        "print('vocab size:', vocab_size)\n",
        "print('number of unique words in current emb(extracted from pretrained emb):', embeddings_matrix.shape)\n",
        "print('number of sentences in corpus:', len(df_train))"
      ],
      "execution_count": 18,
      "outputs": [
        {
          "output_type": "stream",
          "name": "stdout",
          "text": [
            "9994\n",
            "number of unique words in pretrained emb: 6830\n",
            "vocab size: 9994\n",
            "number of unique words in current emb(extracted from pretrained emb): (9995, 100)\n",
            "number of sentences in corpus: 3669\n"
          ]
        }
      ]
    },
    {
      "cell_type": "markdown",
      "metadata": {
        "id": "kP5PyHs67CSN"
      },
      "source": [
        "Define callback"
      ]
    },
    {
      "cell_type": "code",
      "metadata": {
        "pycharm": {
          "name": "#%%\n"
        },
        "id": "bE2JEIXK6Ql1"
      },
      "source": [
        "# The PlotLosses function, plots the validation and training loss function during the\n",
        "#  training to give an insight of training the model\n",
        "import keras\n",
        "from matplotlib import pyplot as plt\n",
        "from IPython.display import clear_output\n",
        "\n",
        "class PlotLosses(keras.callbacks.Callback):\n",
        "\n",
        "    def on_train_begin(self, logs={}):\n",
        "        self.i = 0\n",
        "        self.x = []\n",
        "        self.losses = []\n",
        "        self.val_losses = []\n",
        "        self.accuracy = []\n",
        "        self.val_accuracy = []\n",
        "\n",
        "        self.fig = plt.figure()\n",
        "\n",
        "        self.logs = []\n",
        "\n",
        "    def on_epoch_end(self, epoch, logs={}):\n",
        "\n",
        "        self.logs.append(logs)\n",
        "        self.x.append(self.i)\n",
        "        self.losses.append(logs.get('loss'))\n",
        "        self.val_losses.append(logs.get('val_loss'))\n",
        "        self.accuracy.append(logs.get('accuracy'))\n",
        "        self.val_accuracy.append(logs.get('val_accuracy'))\n",
        "        self.i += 1\n",
        "\n",
        "        clear_output(wait=True)\n",
        "        plt.plot(self.x, self.losses, label=\"loss\")\n",
        "        plt.plot(self.x, self.val_losses, label=\"val_loss\")\n",
        "        plt.legend()\n",
        "        plt.grid()\n",
        "        plt.show()\n",
        "        plt.plot(self.x, self.accuracy, label=\"accuracy\")\n",
        "        plt.plot(self.x, self.val_accuracy, label=\"val_accuracy\")\n",
        "        plt.legend()\n",
        "        plt.grid()\n",
        "        plt.show()\n",
        "\n",
        "        print('Validation metrics:')\n",
        "        print('val_losses: {}'.format(round(self.val_losses[-1], 3)),\n",
        "        'val_accuracy: {}'.format(round(self.val_accuracy[-1], 3)) )\n",
        "\n",
        "plot_losses = PlotLosses()"
      ],
      "execution_count": 19,
      "outputs": []
    },
    {
      "cell_type": "markdown",
      "metadata": {
        "id": "uDBcB9Ej7LW6"
      },
      "source": [
        "# define Model"
      ]
    },
    {
      "cell_type": "code",
      "metadata": {
        "pycharm": {
          "name": "#%%\n"
        },
        "id": "0zbmlDqp6Ql3",
        "colab": {
          "base_uri": "https://localhost:8080/"
        },
        "outputId": "785ac375-8665-4895-85dc-52043f9d674c"
      },
      "source": [
        "# keras imports\n",
        "from keras.layers import Dense, Input, LSTM, GRU, Dropout, Bidirectional\n",
        "from keras.callbacks import EarlyStopping, ModelCheckpoint\n",
        "from tensorflow.keras.layers import BatchNormalization\n",
        "from keras.layers.embeddings import Embedding\n",
        "from keras.layers.merge import concatenate\n",
        "from keras.callbacks import TensorBoard\n",
        "from keras.models import load_model\n",
        "from keras.models import Model\n",
        "from keras.layers import Layer\n",
        "import keras.backend as K\n",
        "\n",
        "nb_words = len(word_index) + 1\n",
        "\n",
        "\n",
        "# Define attenstion class\n",
        "class attention(Layer):\n",
        "  global w, b\n",
        "  def __init__(self,**kwargs):\n",
        "    super(attention,self).__init__(**kwargs)\n",
        "\n",
        "  def build(self,input_shape):\n",
        "    global w, b\n",
        "    self.W=self.add_weight(name=\"att_weight\",shape=(input_shape[-1],1),initializer=\"normal\")\n",
        "    self.b=self.add_weight(name=\"att_bias\",shape=(input_shape[1],1),initializer=\"zeros\")\n",
        "    super(attention, self).build(input_shape)\n",
        "    w = self.W\n",
        "    b = self.b\n",
        "    return self.W, self.b\n",
        "\n",
        "  def weightss(self): # تابع مربوط به دریافت وزن های لایه توجه\n",
        "    global w, b\n",
        "    return w, b\n",
        "\n",
        "  def call(self,x):\n",
        "    et=K.squeeze(K.tanh(K.dot(x,self.W)+self.b),axis=-1)\n",
        "    at=K.softmax(et)\n",
        "    at=K.expand_dims(at,axis=-1)\n",
        "    output=x*at\n",
        "    return K.sum(output,axis=1)\n",
        "\n",
        "  def compute_output_shape(self,input_shape):\n",
        "    return (input_shape[0],input_shape[-1])\n",
        "\n",
        "  def get_config(self):\n",
        "    return super(attention,self).get_config()\n",
        "\n",
        "\n",
        "\n",
        "# Define model\n",
        "def defined_model(RNN_layer):\n",
        "\n",
        "  # Creating word embedding layer\n",
        "  embedding_layer = Embedding(nb_words, embedding_dim, weights=[embeddings_matrix],\n",
        "                              input_length=max_length, trainable=False)\n",
        "\n",
        "  # Attention\n",
        "  att = attention()\n",
        "\n",
        "  # Creating LSTM Encoder\n",
        "  if RNN_layer == 'BiLSTM':\n",
        "    lstm_layer = Bidirectional(LSTM(128, return_sequences=True))#, dropout=0, recurrent_dropout=0))\n",
        "  elif RNN_layer == 'LSTM':\n",
        "    lstm_layer = LSTM(128, return_sequences=True)#, dropout=0, recurrent_dropout=0))\n",
        "  elif RNN_layer == 'GRU':\n",
        "    lstm_layer = GRU(128, return_sequences=True)#, dropout=0, recurrent_dropout=0))\n",
        "  else:\n",
        "    raise Exception(\"\"\"\n",
        "    RNN_layer argument is not correct.\n",
        "      choose one of the following layers:\n",
        "      1- BiLSTM\n",
        "      2- LSTM\n",
        "      3- GRU\n",
        "      \"\"\")\n",
        "\n",
        "  # Creating LSTM Encoder layer for First Sentence\n",
        "  sequence_1_input = Input(shape=(max_length,), dtype='int32')\n",
        "  embedded_sequences_1 = embedding_layer(sequence_1_input)\n",
        "  att_in1 = lstm_layer(embedded_sequences_1)\n",
        "  att_out1 = att(att_in1)\n",
        "\n",
        "  # Creating LSTM Encoder layer for Second Sentence\n",
        "  sequence_2_input = Input(shape=(max_length,), dtype='int32')\n",
        "  embedded_sequences_2 = embedding_layer(sequence_2_input)\n",
        "  att_in2 = lstm_layer(embedded_sequences_2)\n",
        "  att_out2 = att(att_in2)\n",
        "\n",
        "\n",
        "  # Merging two attention encodes vectors from sentences\n",
        "  merged = concatenate([att_out1, att_out2])\n",
        "  merged = Dense(256, activation='relu')(merged)\n",
        "  merged = Dense(128, activation='relu')(merged)\n",
        "  preds = Dense(1, activation='sigmoid')(merged)\n",
        "\n",
        "  model = Model(inputs=[sequence_1_input, sequence_2_input], outputs=preds)\n",
        "  model.compile(loss='binary_crossentropy',optimizer='adam',metrics=['accuracy'])\n",
        "\n",
        "  return model\n",
        "\n",
        "# چاپ خلاصه مدل\n",
        "defined_model(RNN_layer='BiLSTM').summary()"
      ],
      "execution_count": 20,
      "outputs": [
        {
          "output_type": "stream",
          "name": "stdout",
          "text": [
            "Model: \"model_3\"\n",
            "__________________________________________________________________________________________________\n",
            "Layer (type)                    Output Shape         Param #     Connected to                     \n",
            "==================================================================================================\n",
            "input_7 (InputLayer)            [(None, 17)]         0                                            \n",
            "__________________________________________________________________________________________________\n",
            "input_8 (InputLayer)            [(None, 17)]         0                                            \n",
            "__________________________________________________________________________________________________\n",
            "embedding_3 (Embedding)         (None, 17, 100)      999500      input_7[0][0]                    \n",
            "                                                                 input_8[0][0]                    \n",
            "__________________________________________________________________________________________________\n",
            "bidirectional_2 (Bidirectional) (None, 17, 256)      234496      embedding_3[0][0]                \n",
            "                                                                 embedding_3[1][0]                \n",
            "__________________________________________________________________________________________________\n",
            "attention_3 (attention)         (None, 256)          273         bidirectional_2[0][0]            \n",
            "                                                                 bidirectional_2[1][0]            \n",
            "__________________________________________________________________________________________________\n",
            "concatenate_3 (Concatenate)     (None, 512)          0           attention_3[0][0]                \n",
            "                                                                 attention_3[1][0]                \n",
            "__________________________________________________________________________________________________\n",
            "dense_9 (Dense)                 (None, 256)          131328      concatenate_3[0][0]              \n",
            "__________________________________________________________________________________________________\n",
            "dense_10 (Dense)                (None, 128)          32896       dense_9[0][0]                    \n",
            "__________________________________________________________________________________________________\n",
            "dense_11 (Dense)                (None, 1)            129         dense_10[0][0]                   \n",
            "==================================================================================================\n",
            "Total params: 1,398,622\n",
            "Trainable params: 399,122\n",
            "Non-trainable params: 999,500\n",
            "__________________________________________________________________________________________________\n"
          ]
        }
      ]
    },
    {
      "cell_type": "markdown",
      "metadata": {
        "id": "Pv3BTFnJ7Wk0"
      },
      "source": [
        "## Plot model"
      ]
    },
    {
      "cell_type": "code",
      "metadata": {
        "pycharm": {
          "name": "#%%\n"
        },
        "id": "WlINOeA86Ql3",
        "colab": {
          "base_uri": "https://localhost:8080/",
          "height": 864
        },
        "outputId": "91e55a69-e116-41f6-f33f-c3ce751a4823"
      },
      "source": [
        "import tensorflow as tf\n",
        "model = defined_model(RNN_layer='BiLSTM')\n",
        "tf.keras.utils.plot_model(model, show_shapes=True, show_dtype=True)"
      ],
      "execution_count": 21,
      "outputs": [
        {
          "output_type": "execute_result",
          "data": {
            "image/png": "[encoded data removed]",
            "text/plain": [
              "<IPython.core.display.Image object>"
            ]
          },
          "metadata": {},
          "execution_count": 21
        }
      ]
    },
    {
      "cell_type": "markdown",
      "metadata": {
        "id": "nWxVG9s07nFu"
      },
      "source": [
        "## Define model fiiting function then train usign created model"
      ]
    },
    {
      "cell_type": "code",
      "metadata": {
        "pycharm": {
          "name": "#%%\n"
        },
        "id": "XlaMN1t86Ql4",
        "colab": {
          "base_uri": "https://localhost:8080/",
          "height": 620
        },
        "outputId": "2d385c6e-8bbf-4cbe-ab1b-bb3169a4c163"
      },
      "source": [
        "from keras.callbacks import ModelCheckpoint\n",
        "# std imports\n",
        "import time\n",
        "# import gc\n",
        "import os\n",
        "\n",
        "# Model fitting\n",
        "def fitting(RNN_layer, epoch=10, batch_size=128):\n",
        "  model = defined_model(RNN_layer = RNN_layer)\n",
        "\n",
        "  checkpoint_dir = r'/content/checkpoints/'\n",
        "  checkpoint_name = str(int(time.time())) + 'model-{epoch:02d}-{val_accuracy:.3f}.hdf5'\n",
        "\n",
        "  if not os.path.exists(checkpoint_dir):\n",
        "    os.makedirs(checkpoint_dir)\n",
        "\n",
        "  checkpoint = ModelCheckpoint(checkpoint_dir + checkpoint_name,\n",
        "                              monitor='val_accuracy',\n",
        "                              save_weights_only=True,\n",
        "                              save_best_only=False,\n",
        "                              mode='auto',\n",
        "                              save_freq= 'epoch')\n",
        "\n",
        "\n",
        "  history = model.fit(xtrain,\n",
        "                      ytrain,\n",
        "                      batch_size=batch_size,\n",
        "                      epochs=epoch,\n",
        "                      validation_data=(xvalid, yvalid),\n",
        "                      verbose=1,\n",
        "                      callbacks=[plot_losses,\n",
        "                                 checkpoint])\n",
        "\n",
        "  print(\"Training Complete\\n\")\n",
        "  print('==============================================================\\n')\n",
        "\n",
        "  return model\n",
        "\n",
        "if usePretrainedModel == False:\n",
        "  # Train with 'BiLSTM' layer\n",
        "  model = fitting(RNN_layer ='BiLSTM', epoch=20, batch_size=32)"
      ],
      "execution_count": 25,
      "outputs": [
        {
          "output_type": "display_data",
          "data": {
            "image/png": "[encoded data removed]",
            "text/plain": [
              "<Figure size 432x288 with 1 Axes>"
            ]
          },
          "metadata": {
            "needs_background": "light"
          }
        },
        {
          "output_type": "display_data",
          "data": {
            "image/png": "[encoded data removed]",
            "text/plain": [
              "<Figure size 432x288 with 1 Axes>"
            ]
          },
          "metadata": {
            "needs_background": "light"
          }
        },
        {
          "output_type": "stream",
          "name": "stdout",
          "text": [
            "Validation metrics:\n",
            "val_losses: 0.613 val_accuracy: 0.683\n",
            "Training Complete\n",
            "\n",
            "==============================================================\n",
            "\n"
          ]
        }
      ]
    },
    {
      "cell_type": "markdown",
      "metadata": {
        "id": "F5Yjogdt77eK"
      },
      "source": [
        "# Evaluation, Prediction and classification report"
      ]
    },
    {
      "cell_type": "code",
      "metadata": {
        "pycharm": {
          "name": "#%%\n"
        },
        "id": "-TP9bcV26Ql5",
        "colab": {
          "base_uri": "https://localhost:8080/"
        },
        "outputId": "dc525090-4f8e-4ac4-e9fd-5c9bcec050c9"
      },
      "source": [
        "from sklearn.metrics import classification_report\n",
        "from keras.models import load_model\n",
        "\n",
        "if usePretrainedModel == True:\n",
        "  model = defined_model(RNN_layer = 'GRU')\n",
        "  model.load_weights('/content/GRU-1631369260model-20-0.683.hdf5')\n",
        "\n",
        "\n",
        "# Model evaluation\n",
        "loss, accu = model.evaluate(xtest, ytest, verbose=1)\n",
        "print(\"Untrained model, loss: {:.2f}% - accuracy: {:.2f}%\\n\\n\".format(loss, (100 * accu)))\n",
        "\n",
        "\n",
        "prediction = model.predict(xtest, verbose=1)\n",
        "prediction = np.where(prediction>0.5, 1, 0)\n",
        "\n",
        "# Calc Accuraccy, precision, recal, F1-measure (Classification report)\n",
        "matrix = classification_report(ytest,prediction,labels=[1,0])\n",
        "print('\\nClassification report : \\n',matrix)"
      ],
      "execution_count": 23,
      "outputs": [
        {
          "output_type": "stream",
          "name": "stdout",
          "text": [
            "54/54 [==============================] - 2s 9ms/step - loss: 0.7187 - accuracy: 0.6528\n",
            "Untrained model, loss: 0.72% - accuracy: 65.28%\n",
            "\n",
            "\n",
            "54/54 [==============================] - 1s 9ms/step\n",
            "\n",
            "Classification report : \n",
            "               precision    recall  f1-score   support\n",
            "\n",
            "           1       0.68      0.90      0.78      1147\n",
            "           0       0.45      0.16      0.23       578\n",
            "\n",
            "    accuracy                           0.65      1725\n",
            "   macro avg       0.56      0.53      0.50      1725\n",
            "weighted avg       0.60      0.65      0.59      1725\n",
            "\n"
          ]
        }
      ]
    },
    {
      "cell_type": "code",
      "metadata": {
        "id": "NwU4ej9UDwp9"
      },
      "source": [
        ""
      ],
      "execution_count": 23,
      "outputs": []
    }
  ]
}